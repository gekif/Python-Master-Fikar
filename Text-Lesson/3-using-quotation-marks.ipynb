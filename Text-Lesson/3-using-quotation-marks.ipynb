{
 "cells": [
  {
   "cell_type": "code",
   "id": "initial_id",
   "metadata": {
    "collapsed": true,
    "ExecuteTime": {
     "end_time": "2025-06-29T05:59:18.053190Z",
     "start_time": "2025-06-29T05:59:18.044998Z"
    }
   },
   "source": "print(\"I'm going to study 5 hours a day to learn Python Programming language\")",
   "outputs": [
    {
     "name": "stdout",
     "output_type": "stream",
     "text": [
      "I'm going to study 5 hours a day to learn Python Programming language\n"
     ]
    }
   ],
   "execution_count": 2
  },
  {
   "metadata": {
    "ExecuteTime": {
     "end_time": "2025-06-29T06:01:09.086202Z",
     "start_time": "2025-06-29T06:01:09.069870Z"
    }
   },
   "cell_type": "code",
   "source": [
    "# Single Quotes\n",
    "print('Hypotenuse function; it is used to get the hypotenuse in a right triangle')\n",
    "\n",
    "# Double Quotes\n",
    "print(\"Hypotenuse function; it is used to get the hypotenuse in a right triangle\")\n",
    "\n",
    "# Triple Quotes\n",
    "print(\"\"\"Hypotenuse function; it is used to get the hypotenuse in a right triangle\"\"\")"
   ],
   "id": "6769ebc8426b9c62",
   "outputs": [
    {
     "name": "stdout",
     "output_type": "stream",
     "text": [
      "Hypotenuse function; it is used to get the hypotenuse in a right triangle\n",
      "Hypotenuse function; it is used to get the hypotenuse in a right triangle\n",
      "Hypotenuse function; it is used to get the hypotenuse in a right triangle\n"
     ]
    }
   ],
   "execution_count": 3
  },
  {
   "metadata": {
    "ExecuteTime": {
     "end_time": "2025-06-29T06:03:00.774202Z",
     "start_time": "2025-06-29T06:03:00.765297Z"
    }
   },
   "cell_type": "code",
   "source": [
    "# Multiple lines with triple quotes\n",
    "print(\"\"\"\n",
    "      Hypotenuse function; it is used to get the hypotenuse in a right triangle\n",
    "      *************************************************************************\n",
    "      Arguments:\n",
    "      a = First side of the triangle\n",
    "      b = Second side of the triangle\n",
    "\"\"\")"
   ],
   "id": "d33840f9b2dbd33f",
   "outputs": [
    {
     "name": "stdout",
     "output_type": "stream",
     "text": [
      "\n",
      "      Hypotenuse function; it is used to get the hypotenuse in a right triangle\n",
      "      *************************************************************************\n",
      "      Arguments:\n",
      "      a = First side of the triangle\n",
      "      b = Second side of the triangle\n",
      "\n"
     ]
    }
   ],
   "execution_count": 4
  }
 ],
 "metadata": {
  "kernelspec": {
   "display_name": "Python 3",
   "language": "python",
   "name": "python3"
  },
  "language_info": {
   "codemirror_mode": {
    "name": "ipython",
    "version": 2
   },
   "file_extension": ".py",
   "mimetype": "text/x-python",
   "name": "python",
   "nbconvert_exporter": "python",
   "pygments_lexer": "ipython2",
   "version": "2.7.6"
  }
 },
 "nbformat": 4,
 "nbformat_minor": 5
}
