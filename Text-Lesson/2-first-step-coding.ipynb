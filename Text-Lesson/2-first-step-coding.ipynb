{
 "cells": [
  {
   "cell_type": "code",
   "id": "initial_id",
   "metadata": {
    "collapsed": true,
    "ExecuteTime": {
     "end_time": "2025-06-29T05:36:44.204554Z",
     "start_time": "2025-06-29T05:36:44.195376Z"
    }
   },
   "source": "'Hello World'",
   "outputs": [
    {
     "data": {
      "text/plain": [
       "'Hello World'"
      ]
     },
     "execution_count": 7,
     "metadata": {},
     "output_type": "execute_result"
    }
   ],
   "execution_count": 7
  },
  {
   "metadata": {
    "ExecuteTime": {
     "end_time": "2025-06-29T05:34:49.528966Z",
     "start_time": "2025-06-29T05:34:49.521963Z"
    }
   },
   "cell_type": "code",
   "source": "print(\"HELLO DATA SCIENCE\")",
   "id": "fc2e97b5c3002d88",
   "outputs": [
    {
     "name": "stdout",
     "output_type": "stream",
     "text": [
      "HELLO DATA SCIENCE\n"
     ]
    }
   ],
   "execution_count": 3
  },
  {
   "metadata": {
    "ExecuteTime": {
     "end_time": "2025-06-29T05:35:06.394283Z",
     "start_time": "2025-06-29T05:35:06.386480Z"
    }
   },
   "cell_type": "code",
   "source": "print(\"I Love Python\")",
   "id": "1fd39482cf07d95f",
   "outputs": [
    {
     "name": "stdout",
     "output_type": "stream",
     "text": [
      "I Love Python\n"
     ]
    }
   ],
   "execution_count": 4
  },
  {
   "metadata": {
    "ExecuteTime": {
     "end_time": "2025-06-29T05:36:22.850018Z",
     "start_time": "2025-06-29T05:36:22.842150Z"
    }
   },
   "cell_type": "code",
   "source": [
    "print(\"HELLO DATA SCIENCE\")\n",
    "\"HELLO WORLD\"\n",
    "\"HELLO MACHINE LEARNING\"\n",
    "print(\"HELLO FRIENDS\")"
   ],
   "id": "41a32b88358a02db",
   "outputs": [
    {
     "name": "stdout",
     "output_type": "stream",
     "text": [
      "HELLO DATA SCIENCE\n",
      "HELLO FRIENDS\n"
     ]
    }
   ],
   "execution_count": 6
  },
  {
   "metadata": {
    "ExecuteTime": {
     "end_time": "2025-06-29T05:37:24.824132Z",
     "start_time": "2025-06-29T05:37:24.815302Z"
    }
   },
   "cell_type": "code",
   "source": [
    "print(\"Hello\")\n",
    "\"Python and\"\n",
    "print(\"Data Science\")"
   ],
   "id": "7b12068546df31e0",
   "outputs": [
    {
     "name": "stdout",
     "output_type": "stream",
     "text": [
      "Hello\n",
      "Data Science\n"
     ]
    }
   ],
   "execution_count": 8
  }
 ],
 "metadata": {
  "kernelspec": {
   "display_name": "Python 3",
   "language": "python",
   "name": "python3"
  },
  "language_info": {
   "codemirror_mode": {
    "name": "ipython",
    "version": 2
   },
   "file_extension": ".py",
   "mimetype": "text/x-python",
   "name": "python",
   "nbconvert_exporter": "python",
   "pygments_lexer": "ipython2",
   "version": "2.7.6"
  }
 },
 "nbformat": 4,
 "nbformat_minor": 5
}
